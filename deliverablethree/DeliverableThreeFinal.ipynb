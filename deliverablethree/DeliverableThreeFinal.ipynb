{
 "cells": [
  {
   "attachments": {},
   "cell_type": "markdown",
   "metadata": {},
   "source": [
    "## Deliverable 3\n",
    "\n",
    "### Group Member: Matthew Pon\n",
    "### Organization: HedgehogsAnonymous\n",
    "* Github: https://ponmp.github.io/deliverablethree/\n",
    "* Organization Repo: https://github.com/HedgehogsAnonymous/PUBPOLDeliverable \n",
    "\n",
    "Agent based modeling"
   ]
  },
  {
   "cell_type": "code",
   "execution_count": null,
   "metadata": {},
   "outputs": [],
   "source": [
    "# import relevant libraries\n",
    "import pandas as pd\n",
    "import itertools\n",
    "from random import choice"
   ]
  },
  {
   "cell_type": "markdown",
   "metadata": {},
   "source": [
    "First we define the choices for the game"
   ]
  },
  {
   "cell_type": "code",
   "execution_count": null,
   "metadata": {},
   "outputs": [],
   "source": [
    "# The choices we have are Rock, Paper, Scissors, Lizard, and Spock.\n",
    "Decision = ['Rock', 'Paper', 'Scissors', 'Lizard', 'Spock']"
   ]
  },
  {
   "cell_type": "markdown",
   "metadata": {},
   "source": [
    "Next we define the conditions according to rank"
   ]
  },
  {
   "cell_type": "code",
   "execution_count": null,
   "metadata": {},
   "outputs": [],
   "source": [
    "# Create a dictionary for winning conditions\n",
    "Condition = {('Rock','Paper'):(0,1),\n",
    "           ('Rock','Scissors'):(1,0),\n",
    "           ('Rock','Spock'):(0,1),\n",
    "           ('Rock','Lizard'):(1,0),\n",
    "           ('Paper','Scissors'):(0,1),\n",
    "           ('Paper','Spock'):(1,0),\n",
    "           ('Paper','Lizard'):(0,1),\n",
    "           ('Paper','Rock'):(1,0),\n",
    "           ('Scissors','Spock'):(0,1),\n",
    "           ('Scissors','Lizard'):(1,0),\n",
    "           ('Scissors','Rock'):(0,1),\n",
    "           ('Scissors','Paper'):(1,0),\n",
    "           ('Spock','Lizard'):(0,1),\n",
    "           ('Spock','Rock'):(1,0),\n",
    "           ('Spock','Paper'):(0,1),\n",
    "           ('Spock','Scissors'):(1,0),\n",
    "           ('Lizard','Rock'):(0,1),\n",
    "           ('Lizard','Paper'):(1,0),\n",
    "           ('Lizard','Scissors'):(0,1),\n",
    "           ('Lizard','Spock'):(1,0),\n",
    "           ('Rock','Rock'):(0,0),\n",
    "           ('Paper','Paper'):(0,0),\n",
    "           ('Scissors','Scissors'):(0,0),\n",
    "           ('Spock','Spock'):(0,0),\n",
    "           ('Lizard','Lizard'):(0,0),\n",
    "           }"
   ]
  },
  {
   "attachments": {},
   "cell_type": "markdown",
   "metadata": {},
   "source": [
    "Setting up players"
   ]
  },
  {
   "cell_type": "code",
   "execution_count": null,
   "metadata": {},
   "outputs": [],
   "source": [
    "# Create a list of the cast for BBT\n",
    "Cast = ['Leonard', 'Sheldon', 'Penny', 'Howard', 'Raj', 'Leslie', 'Bernadette', 'Amy', 'Stuart', 'Emily']\n",
    "# Making a list variable named Players with values for name, score with init, and decision with init\n",
    "Players = [{'Name':n,'Score':0,'Decision':None} for n in Cast]"
   ]
  },
  {
   "attachments": {},
   "cell_type": "markdown",
   "metadata": {},
   "source": [
    "Setting up Matches"
   ]
  },
  {
   "cell_type": "code",
   "execution_count": null,
   "metadata": {},
   "outputs": [],
   "source": [
    "# pair off the players so they can start playing\n",
    "import itertools\n",
    "# iterate till out of possible combinations of players and show combinations\n",
    "for player1,player2 in itertools.combinations(Players,2):\n",
    "    print(player1,player2)\n"
   ]
  },
  {
   "attachments": {},
   "cell_type": "markdown",
   "metadata": {},
   "source": [
    "Playing for 10 rounds"
   ]
  },
  {
   "cell_type": "code",
   "execution_count": null,
   "metadata": {},
   "outputs": [],
   "source": [
    "# Resetting player scores and decisions from cast\n",
    "Players = [{'Name':n,'Score':0,'Decision':None} for n in Cast]\n",
    "\n",
    "# playing till 10 rounds at 1 round increments\n",
    "for aRound in range(10):\n",
    "    # in each of the 10 rounds this will occur\n",
    "    for player1,player2 in itertools.combinations(Players,2):\n",
    "        # each player pair makes a move\n",
    "        player1['Decision']=choice(Decision)\n",
    "        player2['Decision']=choice(Decision)\n",
    "        # player 1 or 2 wins\n",
    "        result = Condition[player1['Decision'],player2['Decision']]\n",
    "        # add score to player total score\n",
    "        player1['Score'] += result[0]\n",
    "        player2['Score'] += result[1]"
   ]
  },
  {
   "attachments": {},
   "cell_type": "markdown",
   "metadata": {},
   "source": [
    "Show who won the game"
   ]
  },
  {
   "cell_type": "code",
   "execution_count": null,
   "metadata": {},
   "outputs": [],
   "source": [
    "# create a df for the total scores\n",
    "GameResults = pd.DataFrame(Players)\n",
    "GameResults[GameResults.Score==GameResults.Score.max()]"
   ]
  }
 ],
 "metadata": {
  "kernelspec": {
   "display_name": "Python 3 (ipykernel)",
   "language": "python",
   "name": "python3"
  },
  "language_info": {
   "codemirror_mode": {
    "name": "ipython",
    "version": 3
   },
   "file_extension": ".py",
   "mimetype": "text/x-python",
   "name": "python",
   "nbconvert_exporter": "python",
   "pygments_lexer": "ipython3",
   "version": "3.10.9"
  }
 },
 "nbformat": 4,
 "nbformat_minor": 2
}
